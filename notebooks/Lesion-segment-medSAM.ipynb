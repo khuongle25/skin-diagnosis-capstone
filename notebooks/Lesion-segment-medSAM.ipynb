{
 "cells": [
  {
   "cell_type": "markdown",
   "id": "107d6b78",
   "metadata": {},
   "source": [
    "https://www.kaggle.com/code/khuonglephuc/lesionsegmentmedsam/notebook\n",
    "\n",
    "https://www.kaggle.com/datasets/tienle65/isicsegmentupdate"
   ]
  },
  {
   "cell_type": "code",
   "execution_count": 1,
   "id": "b714fb6d",
   "metadata": {
    "_cell_guid": "b1076dfc-b9ad-4769-8c92-a6c4dae69d19",
    "_uuid": "8f2839f25d086af736a60e9eeb907d3b93b6e0e5",
    "execution": {
     "iopub.execute_input": "2025-04-20T10:25:31.257250Z",
     "iopub.status.busy": "2025-04-20T10:25:31.256514Z",
     "iopub.status.idle": "2025-04-20T10:27:15.292236Z",
     "shell.execute_reply": "2025-04-20T10:27:15.291246Z"
    },
    "papermill": {
     "duration": 104.040191,
     "end_time": "2025-04-20T10:27:15.293839",
     "exception": false,
     "start_time": "2025-04-20T10:25:31.253648",
     "status": "completed"
    },
    "tags": []
   },
   "outputs": [
    {
     "name": "stdout",
     "output_type": "stream",
     "text": [
      "Collecting monai\r\n",
      "  Downloading monai-1.4.0-py3-none-any.whl.metadata (11 kB)\r\n",
      "Requirement already satisfied: numpy<2.0,>=1.24 in /usr/local/lib/python3.11/dist-packages (from monai) (1.26.4)\r\n",
      "Requirement already satisfied: torch>=1.9 in /usr/local/lib/python3.11/dist-packages (from monai) (2.5.1+cu124)\r\n",
      "Requirement already satisfied: mkl_fft in /usr/local/lib/python3.11/dist-packages (from numpy<2.0,>=1.24->monai) (1.3.8)\r\n",
      "Requirement already satisfied: mkl_random in /usr/local/lib/python3.11/dist-packages (from numpy<2.0,>=1.24->monai) (1.2.4)\r\n",
      "Requirement already satisfied: mkl_umath in /usr/local/lib/python3.11/dist-packages (from numpy<2.0,>=1.24->monai) (0.1.1)\r\n",
      "Requirement already satisfied: mkl in /usr/local/lib/python3.11/dist-packages (from numpy<2.0,>=1.24->monai) (2025.1.0)\r\n",
      "Requirement already satisfied: tbb4py in /usr/local/lib/python3.11/dist-packages (from numpy<2.0,>=1.24->monai) (2022.1.0)\r\n",
      "Requirement already satisfied: mkl-service in /usr/local/lib/python3.11/dist-packages (from numpy<2.0,>=1.24->monai) (2.4.1)\r\n",
      "Requirement already satisfied: filelock in /usr/local/lib/python3.11/dist-packages (from torch>=1.9->monai) (3.18.0)\r\n",
      "Requirement already satisfied: typing-extensions>=4.8.0 in /usr/local/lib/python3.11/dist-packages (from torch>=1.9->monai) (4.13.1)\r\n",
      "Requirement already satisfied: networkx in /usr/local/lib/python3.11/dist-packages (from torch>=1.9->monai) (3.4.2)\r\n",
      "Requirement already satisfied: jinja2 in /usr/local/lib/python3.11/dist-packages (from torch>=1.9->monai) (3.1.6)\r\n",
      "Requirement already satisfied: fsspec in /usr/local/lib/python3.11/dist-packages (from torch>=1.9->monai) (2025.3.2)\r\n",
      "Requirement already satisfied: nvidia-cuda-nvrtc-cu12==12.4.127 in /usr/local/lib/python3.11/dist-packages (from torch>=1.9->monai) (12.4.127)\r\n",
      "Requirement already satisfied: nvidia-cuda-runtime-cu12==12.4.127 in /usr/local/lib/python3.11/dist-packages (from torch>=1.9->monai) (12.4.127)\r\n",
      "Requirement already satisfied: nvidia-cuda-cupti-cu12==12.4.127 in /usr/local/lib/python3.11/dist-packages (from torch>=1.9->monai) (12.4.127)\r\n",
      "Collecting nvidia-cudnn-cu12==9.1.0.70 (from torch>=1.9->monai)\r\n",
      "  Downloading nvidia_cudnn_cu12-9.1.0.70-py3-none-manylinux2014_x86_64.whl.metadata (1.6 kB)\r\n",
      "Collecting nvidia-cublas-cu12==12.4.5.8 (from torch>=1.9->monai)\r\n",
      "  Downloading nvidia_cublas_cu12-12.4.5.8-py3-none-manylinux2014_x86_64.whl.metadata (1.5 kB)\r\n",
      "Collecting nvidia-cufft-cu12==11.2.1.3 (from torch>=1.9->monai)\r\n",
      "  Downloading nvidia_cufft_cu12-11.2.1.3-py3-none-manylinux2014_x86_64.whl.metadata (1.5 kB)\r\n",
      "Collecting nvidia-curand-cu12==10.3.5.147 (from torch>=1.9->monai)\r\n",
      "  Downloading nvidia_curand_cu12-10.3.5.147-py3-none-manylinux2014_x86_64.whl.metadata (1.5 kB)\r\n",
      "Collecting nvidia-cusolver-cu12==11.6.1.9 (from torch>=1.9->monai)\r\n",
      "  Downloading nvidia_cusolver_cu12-11.6.1.9-py3-none-manylinux2014_x86_64.whl.metadata (1.6 kB)\r\n",
      "Collecting nvidia-cusparse-cu12==12.3.1.170 (from torch>=1.9->monai)\r\n",
      "  Downloading nvidia_cusparse_cu12-12.3.1.170-py3-none-manylinux2014_x86_64.whl.metadata (1.6 kB)\r\n",
      "Requirement already satisfied: nvidia-nccl-cu12==2.21.5 in /usr/local/lib/python3.11/dist-packages (from torch>=1.9->monai) (2.21.5)\r\n",
      "Requirement already satisfied: nvidia-nvtx-cu12==12.4.127 in /usr/local/lib/python3.11/dist-packages (from torch>=1.9->monai) (12.4.127)\r\n",
      "Collecting nvidia-nvjitlink-cu12==12.4.127 (from torch>=1.9->monai)\r\n",
      "  Downloading nvidia_nvjitlink_cu12-12.4.127-py3-none-manylinux2014_x86_64.whl.metadata (1.5 kB)\r\n",
      "Requirement already satisfied: triton==3.1.0 in /usr/local/lib/python3.11/dist-packages (from torch>=1.9->monai) (3.1.0)\r\n",
      "Requirement already satisfied: sympy==1.13.1 in /usr/local/lib/python3.11/dist-packages (from torch>=1.9->monai) (1.13.1)\r\n",
      "Requirement already satisfied: mpmath<1.4,>=1.1.0 in /usr/local/lib/python3.11/dist-packages (from sympy==1.13.1->torch>=1.9->monai) (1.3.0)\r\n",
      "Requirement already satisfied: MarkupSafe>=2.0 in /usr/local/lib/python3.11/dist-packages (from jinja2->torch>=1.9->monai) (3.0.2)\r\n",
      "Requirement already satisfied: intel-openmp<2026,>=2024 in /usr/local/lib/python3.11/dist-packages (from mkl->numpy<2.0,>=1.24->monai) (2024.2.0)\r\n",
      "Requirement already satisfied: tbb==2022.* in /usr/local/lib/python3.11/dist-packages (from mkl->numpy<2.0,>=1.24->monai) (2022.1.0)\r\n",
      "Requirement already satisfied: tcmlib==1.* in /usr/local/lib/python3.11/dist-packages (from tbb==2022.*->mkl->numpy<2.0,>=1.24->monai) (1.2.0)\r\n",
      "Requirement already satisfied: intel-cmplr-lib-rt in /usr/local/lib/python3.11/dist-packages (from mkl_umath->numpy<2.0,>=1.24->monai) (2024.2.0)\r\n",
      "Requirement already satisfied: intel-cmplr-lib-ur==2024.2.0 in /usr/local/lib/python3.11/dist-packages (from intel-openmp<2026,>=2024->mkl->numpy<2.0,>=1.24->monai) (2024.2.0)\r\n",
      "Downloading monai-1.4.0-py3-none-any.whl (1.5 MB)\r\n",
      "\u001b[2K   \u001b[90m━━━━━━━━━━━━━━━━━━━━━━━━━━━━━━━━━━━━━━━━\u001b[0m \u001b[32m1.5/1.5 MB\u001b[0m \u001b[31m18.5 MB/s\u001b[0m eta \u001b[36m0:00:00\u001b[0m\r\n",
      "\u001b[?25hDownloading nvidia_cublas_cu12-12.4.5.8-py3-none-manylinux2014_x86_64.whl (363.4 MB)\r\n",
      "\u001b[2K   \u001b[90m━━━━━━━━━━━━━━━━━━━━━━━━━━━━━━━━━━━━━━━━\u001b[0m \u001b[32m363.4/363.4 MB\u001b[0m \u001b[31m4.6 MB/s\u001b[0m eta \u001b[36m0:00:00\u001b[0m\r\n",
      "\u001b[?25hDownloading nvidia_cudnn_cu12-9.1.0.70-py3-none-manylinux2014_x86_64.whl (664.8 MB)\r\n",
      "\u001b[2K   \u001b[90m━━━━━━━━━━━━━━━━━━━━━━━━━━━━━━━━━━━━━━━━\u001b[0m \u001b[32m664.8/664.8 MB\u001b[0m \u001b[31m2.6 MB/s\u001b[0m eta \u001b[36m0:00:00\u001b[0m\r\n",
      "\u001b[?25hDownloading nvidia_cufft_cu12-11.2.1.3-py3-none-manylinux2014_x86_64.whl (211.5 MB)\r\n",
      "\u001b[2K   \u001b[90m━━━━━━━━━━━━━━━━━━━━━━━━━━━━━━━━━━━━━━━━\u001b[0m \u001b[32m211.5/211.5 MB\u001b[0m \u001b[31m6.2 MB/s\u001b[0m eta \u001b[36m0:00:00\u001b[0m\r\n",
      "\u001b[?25hDownloading nvidia_curand_cu12-10.3.5.147-py3-none-manylinux2014_x86_64.whl (56.3 MB)\r\n",
      "\u001b[2K   \u001b[90m━━━━━━━━━━━━━━━━━━━━━━━━━━━━━━━━━━━━━━━━\u001b[0m \u001b[32m56.3/56.3 MB\u001b[0m \u001b[31m30.6 MB/s\u001b[0m eta \u001b[36m0:00:00\u001b[0m\r\n",
      "\u001b[?25hDownloading nvidia_cusolver_cu12-11.6.1.9-py3-none-manylinux2014_x86_64.whl (127.9 MB)\r\n",
      "\u001b[2K   \u001b[90m━━━━━━━━━━━━━━━━━━━━━━━━━━━━━━━━━━━━━━━━\u001b[0m \u001b[32m127.9/127.9 MB\u001b[0m \u001b[31m13.6 MB/s\u001b[0m eta \u001b[36m0:00:00\u001b[0m\r\n",
      "\u001b[?25hDownloading nvidia_cusparse_cu12-12.3.1.170-py3-none-manylinux2014_x86_64.whl (207.5 MB)\r\n",
      "\u001b[2K   \u001b[90m━━━━━━━━━━━━━━━━━━━━━━━━━━━━━━━━━━━━━━━━\u001b[0m \u001b[32m207.5/207.5 MB\u001b[0m \u001b[31m5.3 MB/s\u001b[0m eta \u001b[36m0:00:00\u001b[0m\r\n",
      "\u001b[?25hDownloading nvidia_nvjitlink_cu12-12.4.127-py3-none-manylinux2014_x86_64.whl (21.1 MB)\r\n",
      "\u001b[2K   \u001b[90m━━━━━━━━━━━━━━━━━━━━━━━━━━━━━━━━━━━━━━━━\u001b[0m \u001b[32m21.1/21.1 MB\u001b[0m \u001b[31m5.7 MB/s\u001b[0m eta \u001b[36m0:00:00\u001b[0m\r\n",
      "\u001b[?25hInstalling collected packages: nvidia-nvjitlink-cu12, nvidia-curand-cu12, nvidia-cufft-cu12, nvidia-cublas-cu12, nvidia-cusparse-cu12, nvidia-cudnn-cu12, nvidia-cusolver-cu12, monai\r\n",
      "  Attempting uninstall: nvidia-nvjitlink-cu12\r\n",
      "    Found existing installation: nvidia-nvjitlink-cu12 12.8.93\r\n",
      "    Uninstalling nvidia-nvjitlink-cu12-12.8.93:\r\n",
      "      Successfully uninstalled nvidia-nvjitlink-cu12-12.8.93\r\n",
      "  Attempting uninstall: nvidia-curand-cu12\r\n",
      "    Found existing installation: nvidia-curand-cu12 10.3.9.90\r\n",
      "    Uninstalling nvidia-curand-cu12-10.3.9.90:\r\n",
      "      Successfully uninstalled nvidia-curand-cu12-10.3.9.90\r\n",
      "  Attempting uninstall: nvidia-cufft-cu12\r\n",
      "    Found existing installation: nvidia-cufft-cu12 11.3.3.83\r\n",
      "    Uninstalling nvidia-cufft-cu12-11.3.3.83:\r\n",
      "      Successfully uninstalled nvidia-cufft-cu12-11.3.3.83\r\n",
      "  Attempting uninstall: nvidia-cublas-cu12\r\n",
      "    Found existing installation: nvidia-cublas-cu12 12.8.4.1\r\n",
      "    Uninstalling nvidia-cublas-cu12-12.8.4.1:\r\n",
      "      Successfully uninstalled nvidia-cublas-cu12-12.8.4.1\r\n",
      "  Attempting uninstall: nvidia-cusparse-cu12\r\n",
      "    Found existing installation: nvidia-cusparse-cu12 12.5.8.93\r\n",
      "    Uninstalling nvidia-cusparse-cu12-12.5.8.93:\r\n",
      "      Successfully uninstalled nvidia-cusparse-cu12-12.5.8.93\r\n",
      "  Attempting uninstall: nvidia-cudnn-cu12\r\n",
      "    Found existing installation: nvidia-cudnn-cu12 9.3.0.75\r\n",
      "    Uninstalling nvidia-cudnn-cu12-9.3.0.75:\r\n",
      "      Successfully uninstalled nvidia-cudnn-cu12-9.3.0.75\r\n",
      "  Attempting uninstall: nvidia-cusolver-cu12\r\n",
      "    Found existing installation: nvidia-cusolver-cu12 11.7.3.90\r\n",
      "    Uninstalling nvidia-cusolver-cu12-11.7.3.90:\r\n",
      "      Successfully uninstalled nvidia-cusolver-cu12-11.7.3.90\r\n",
      "\u001b[31mERROR: pip's dependency resolver does not currently take into account all the packages that are installed. This behaviour is the source of the following dependency conflicts.\r\n",
      "pylibcugraph-cu12 24.12.0 requires pylibraft-cu12==24.12.*, but you have pylibraft-cu12 25.2.0 which is incompatible.\r\n",
      "pylibcugraph-cu12 24.12.0 requires rmm-cu12==24.12.*, but you have rmm-cu12 25.2.0 which is incompatible.\u001b[0m\u001b[31m\r\n",
      "\u001b[0mSuccessfully installed monai-1.4.0 nvidia-cublas-cu12-12.4.5.8 nvidia-cudnn-cu12-9.1.0.70 nvidia-cufft-cu12-11.2.1.3 nvidia-curand-cu12-10.3.5.147 nvidia-cusolver-cu12-11.6.1.9 nvidia-cusparse-cu12-12.3.1.170 nvidia-nvjitlink-cu12-12.4.127\r\n",
      "Requirement already satisfied: segment-anything in /usr/local/lib/python3.11/dist-packages (1.0)\r\n",
      "Collecting git+https://github.com/bowang-lab/MedSAM.git\r\n",
      "  Cloning https://github.com/bowang-lab/MedSAM.git to /tmp/pip-req-build-178pb641\r\n",
      "  Running command git clone --filter=blob:none --quiet https://github.com/bowang-lab/MedSAM.git /tmp/pip-req-build-178pb641\r\n",
      "  Resolved https://github.com/bowang-lab/MedSAM.git to commit b9db486e77bf9a2c9c11cc061c63f54110d520b6\r\n",
      "  Preparing metadata (setup.py) ... \u001b[?25l\u001b[?25hdone\r\n",
      "Requirement already satisfied: monai in /usr/local/lib/python3.11/dist-packages (from medsam==0.0.1) (1.4.0)\r\n",
      "Requirement already satisfied: matplotlib in /usr/local/lib/python3.11/dist-packages (from medsam==0.0.1) (3.7.5)\r\n",
      "Requirement already satisfied: scikit-image in /usr/local/lib/python3.11/dist-packages (from medsam==0.0.1) (0.25.1)\r\n",
      "Requirement already satisfied: SimpleITK>=2.2.1 in /usr/local/lib/python3.11/dist-packages (from medsam==0.0.1) (2.4.1)\r\n",
      "Requirement already satisfied: nibabel in /usr/local/lib/python3.11/dist-packages (from medsam==0.0.1) (5.3.2)\r\n",
      "Requirement already satisfied: tqdm in /usr/local/lib/python3.11/dist-packages (from medsam==0.0.1) (4.67.1)\r\n",
      "Requirement already satisfied: scipy in /usr/local/lib/python3.11/dist-packages (from medsam==0.0.1) (1.15.2)\r\n",
      "Requirement already satisfied: ipympl in /usr/local/lib/python3.11/dist-packages (from medsam==0.0.1) (0.9.7)\r\n",
      "Requirement already satisfied: opencv-python in /usr/local/lib/python3.11/dist-packages (from medsam==0.0.1) (4.11.0.86)\r\n",
      "Requirement already satisfied: jupyterlab in /usr/local/lib/python3.11/dist-packages (from medsam==0.0.1) (3.6.8)\r\n",
      "Requirement already satisfied: ipywidgets in /usr/local/lib/python3.11/dist-packages (from medsam==0.0.1) (8.1.5)\r\n",
      "Requirement already satisfied: ipython<10 in /usr/local/lib/python3.11/dist-packages (from ipympl->medsam==0.0.1) (7.34.0)\r\n",
      "Requirement already satisfied: numpy in /usr/local/lib/python3.11/dist-packages (from ipympl->medsam==0.0.1) (1.26.4)\r\n",
      "Requirement already satisfied: pillow in /usr/local/lib/python3.11/dist-packages (from ipympl->medsam==0.0.1) (11.1.0)\r\n",
      "Requirement already satisfied: traitlets<6 in /usr/local/lib/python3.11/dist-packages (from ipympl->medsam==0.0.1) (5.7.1)\r\n",
      "Requirement already satisfied: comm>=0.1.3 in /usr/local/lib/python3.11/dist-packages (from ipywidgets->medsam==0.0.1) (0.2.2)\r\n",
      "Requirement already satisfied: widgetsnbextension~=4.0.12 in /usr/local/lib/python3.11/dist-packages (from ipywidgets->medsam==0.0.1) (4.0.13)\r\n",
      "Requirement already satisfied: jupyterlab-widgets~=3.0.12 in /usr/local/lib/python3.11/dist-packages (from ipywidgets->medsam==0.0.1) (3.0.13)\r\n",
      "Requirement already satisfied: contourpy>=1.0.1 in /usr/local/lib/python3.11/dist-packages (from matplotlib->medsam==0.0.1) (1.3.1)\r\n",
      "Requirement already satisfied: cycler>=0.10 in /usr/local/lib/python3.11/dist-packages (from matplotlib->medsam==0.0.1) (0.12.1)\r\n",
      "Requirement already satisfied: fonttools>=4.22.0 in /usr/local/lib/python3.11/dist-packages (from matplotlib->medsam==0.0.1) (4.56.0)\r\n",
      "Requirement already satisfied: kiwisolver>=1.0.1 in /usr/local/lib/python3.11/dist-packages (from matplotlib->medsam==0.0.1) (1.4.8)\r\n",
      "Requirement already satisfied: packaging>=20.0 in /usr/local/lib/python3.11/dist-packages (from matplotlib->medsam==0.0.1) (24.2)\r\n",
      "Requirement already satisfied: pyparsing>=2.3.1 in /usr/local/lib/python3.11/dist-packages (from matplotlib->medsam==0.0.1) (3.2.1)\r\n",
      "Requirement already satisfied: python-dateutil>=2.7 in /usr/local/lib/python3.11/dist-packages (from matplotlib->medsam==0.0.1) (2.9.0.post0)\r\n",
      "Requirement already satisfied: tornado>=6.1.0 in /usr/local/lib/python3.11/dist-packages (from jupyterlab->medsam==0.0.1) (6.4.2)\r\n",
      "Requirement already satisfied: jupyter-core in /usr/local/lib/python3.11/dist-packages (from jupyterlab->medsam==0.0.1) (5.7.2)\r\n",
      "Requirement already satisfied: jupyterlab-server~=2.19 in /usr/local/lib/python3.11/dist-packages (from jupyterlab->medsam==0.0.1) (2.27.3)\r\n",
      "Requirement already satisfied: jupyter-server<3,>=1.16.0 in /usr/local/lib/python3.11/dist-packages (from jupyterlab->medsam==0.0.1) (2.12.5)\r\n",
      "Requirement already satisfied: jupyter-ydoc~=0.2.4 in /usr/local/lib/python3.11/dist-packages (from jupyterlab->medsam==0.0.1) (0.2.5)\r\n",
      "Requirement already satisfied: jupyter-server-ydoc~=0.8.0 in /usr/local/lib/python3.11/dist-packages (from jupyterlab->medsam==0.0.1) (0.8.0)\r\n",
      "Requirement already satisfied: nbclassic in /usr/local/lib/python3.11/dist-packages (from jupyterlab->medsam==0.0.1) (1.2.0)\r\n",
      "Requirement already satisfied: notebook<7 in /usr/local/lib/python3.11/dist-packages (from jupyterlab->medsam==0.0.1) (6.5.4)\r\n",
      "Requirement already satisfied: jinja2>=2.1 in /usr/local/lib/python3.11/dist-packages (from jupyterlab->medsam==0.0.1) (3.1.6)\r\n",
      "Requirement already satisfied: torch>=1.9 in /usr/local/lib/python3.11/dist-packages (from monai->medsam==0.0.1) (2.5.1+cu124)\r\n",
      "Requirement already satisfied: importlib-resources>=5.12 in /usr/local/lib/python3.11/dist-packages (from nibabel->medsam==0.0.1) (6.5.2)\r\n",
      "Requirement already satisfied: typing-extensions>=4.6 in /usr/local/lib/python3.11/dist-packages (from nibabel->medsam==0.0.1) (4.13.1)\r\n",
      "Requirement already satisfied: networkx>=3.0 in /usr/local/lib/python3.11/dist-packages (from scikit-image->medsam==0.0.1) (3.4.2)\r\n",
      "Requirement already satisfied: imageio!=2.35.0,>=2.33 in /usr/local/lib/python3.11/dist-packages (from scikit-image->medsam==0.0.1) (2.37.0)\r\n",
      "Requirement already satisfied: tifffile>=2022.8.12 in /usr/local/lib/python3.11/dist-packages (from scikit-image->medsam==0.0.1) (2025.1.10)\r\n",
      "Requirement already satisfied: lazy-loader>=0.4 in /usr/local/lib/python3.11/dist-packages (from scikit-image->medsam==0.0.1) (0.4)\r\n",
      "Requirement already satisfied: setuptools>=18.5 in /usr/local/lib/python3.11/dist-packages (from ipython<10->ipympl->medsam==0.0.1) (75.1.0)\r\n",
      "Requirement already satisfied: jedi>=0.16 in /usr/local/lib/python3.11/dist-packages (from ipython<10->ipympl->medsam==0.0.1) (0.19.2)\r\n",
      "Requirement already satisfied: decorator in /usr/local/lib/python3.11/dist-packages (from ipython<10->ipympl->medsam==0.0.1) (4.4.2)\r\n",
      "Requirement already satisfied: pickleshare in /usr/local/lib/python3.11/dist-packages (from ipython<10->ipympl->medsam==0.0.1) (0.7.5)\r\n",
      "Requirement already satisfied: prompt-toolkit!=3.0.0,!=3.0.1,<3.1.0,>=2.0.0 in /usr/local/lib/python3.11/dist-packages (from ipython<10->ipympl->medsam==0.0.1) (3.0.50)\r\n",
      "Requirement already satisfied: pygments in /usr/local/lib/python3.11/dist-packages (from ipython<10->ipympl->medsam==0.0.1) (2.19.1)\r\n",
      "Requirement already satisfied: backcall in /usr/local/lib/python3.11/dist-packages (from ipython<10->ipympl->medsam==0.0.1) (0.2.0)\r\n",
      "Requirement already satisfied: matplotlib-inline in /usr/local/lib/python3.11/dist-packages (from ipython<10->ipympl->medsam==0.0.1) (0.1.7)\r\n",
      "Requirement already satisfied: pexpect>4.3 in /usr/local/lib/python3.11/dist-packages (from ipython<10->ipympl->medsam==0.0.1) (4.9.0)\r\n",
      "Requirement already satisfied: MarkupSafe>=2.0 in /usr/local/lib/python3.11/dist-packages (from jinja2>=2.1->jupyterlab->medsam==0.0.1) (3.0.2)\r\n",
      "Requirement already satisfied: anyio>=3.1.0 in /usr/local/lib/python3.11/dist-packages (from jupyter-server<3,>=1.16.0->jupyterlab->medsam==0.0.1) (3.7.1)\r\n",
      "Requirement already satisfied: argon2-cffi in /usr/local/lib/python3.11/dist-packages (from jupyter-server<3,>=1.16.0->jupyterlab->medsam==0.0.1) (23.1.0)\r\n",
      "Requirement already satisfied: jupyter-client>=7.4.4 in /usr/local/lib/python3.11/dist-packages (from jupyter-server<3,>=1.16.0->jupyterlab->medsam==0.0.1) (8.6.3)\r\n",
      "Requirement already satisfied: jupyter-events>=0.9.0 in /usr/local/lib/python3.11/dist-packages (from jupyter-server<3,>=1.16.0->jupyterlab->medsam==0.0.1) (0.12.0)\r\n",
      "Requirement already satisfied: jupyter-server-terminals in /usr/local/lib/python3.11/dist-packages (from jupyter-server<3,>=1.16.0->jupyterlab->medsam==0.0.1) (0.5.3)\r\n",
      "Requirement already satisfied: nbconvert>=6.4.4 in /usr/local/lib/python3.11/dist-packages (from jupyter-server<3,>=1.16.0->jupyterlab->medsam==0.0.1) (6.4.5)\r\n",
      "Requirement already satisfied: nbformat>=5.3.0 in /usr/local/lib/python3.11/dist-packages (from jupyter-server<3,>=1.16.0->jupyterlab->medsam==0.0.1) (5.10.4)\r\n",
      "Requirement already satisfied: overrides in /usr/local/lib/python3.11/dist-packages (from jupyter-server<3,>=1.16.0->jupyterlab->medsam==0.0.1) (7.7.0)\r\n",
      "Requirement already satisfied: prometheus-client in /usr/local/lib/python3.11/dist-packages (from jupyter-server<3,>=1.16.0->jupyterlab->medsam==0.0.1) (0.21.1)\r\n",
      "Requirement already satisfied: pyzmq>=24 in /usr/local/lib/python3.11/dist-packages (from jupyter-server<3,>=1.16.0->jupyterlab->medsam==0.0.1) (24.0.1)\r\n",
      "Requirement already satisfied: send2trash>=1.8.2 in /usr/local/lib/python3.11/dist-packages (from jupyter-server<3,>=1.16.0->jupyterlab->medsam==0.0.1) (1.8.3)\r\n",
      "Requirement already satisfied: terminado>=0.8.3 in /usr/local/lib/python3.11/dist-packages (from jupyter-server<3,>=1.16.0->jupyterlab->medsam==0.0.1) (0.18.1)\r\n",
      "Requirement already satisfied: websocket-client in /usr/local/lib/python3.11/dist-packages (from jupyter-server<3,>=1.16.0->jupyterlab->medsam==0.0.1) (1.8.0)\r\n",
      "Requirement already satisfied: platformdirs>=2.5 in /usr/local/lib/python3.11/dist-packages (from jupyter-core->jupyterlab->medsam==0.0.1) (4.3.7)\r\n",
      "Requirement already satisfied: jupyter-server-fileid<1,>=0.6.0 in /usr/local/lib/python3.11/dist-packages (from jupyter-server-ydoc~=0.8.0->jupyterlab->medsam==0.0.1) (0.9.3)\r\n",
      "Requirement already satisfied: ypy-websocket<0.9.0,>=0.8.2 in /usr/local/lib/python3.11/dist-packages (from jupyter-server-ydoc~=0.8.0->jupyterlab->medsam==0.0.1) (0.8.4)\r\n",
      "Requirement already satisfied: y-py<0.7.0,>=0.6.0 in /usr/local/lib/python3.11/dist-packages (from jupyter-ydoc~=0.2.4->jupyterlab->medsam==0.0.1) (0.6.2)\r\n",
      "Requirement already satisfied: babel>=2.10 in /usr/local/lib/python3.11/dist-packages (from jupyterlab-server~=2.19->jupyterlab->medsam==0.0.1) (2.17.0)\r\n",
      "Requirement already satisfied: json5>=0.9.0 in /usr/local/lib/python3.11/dist-packages (from jupyterlab-server~=2.19->jupyterlab->medsam==0.0.1) (0.12.0)\r\n",
      "Requirement already satisfied: jsonschema>=4.18.0 in /usr/local/lib/python3.11/dist-packages (from jupyterlab-server~=2.19->jupyterlab->medsam==0.0.1) (4.23.0)\r\n",
      "Requirement already satisfied: requests>=2.31 in /usr/local/lib/python3.11/dist-packages (from jupyterlab-server~=2.19->jupyterlab->medsam==0.0.1) (2.32.3)\r\n",
      "Requirement already satisfied: ipython-genutils in /usr/local/lib/python3.11/dist-packages (from notebook<7->jupyterlab->medsam==0.0.1) (0.2.0)\r\n",
      "Requirement already satisfied: nest-asyncio>=1.5 in /usr/local/lib/python3.11/dist-packages (from notebook<7->jupyterlab->medsam==0.0.1) (1.6.0)\r\n",
      "Requirement already satisfied: ipykernel in /usr/local/lib/python3.11/dist-packages (from notebook<7->jupyterlab->medsam==0.0.1) (6.17.1)\r\n",
      "Requirement already satisfied: notebook-shim>=0.2.3 in /usr/local/lib/python3.11/dist-packages (from nbclassic->jupyterlab->medsam==0.0.1) (0.2.4)\r\n",
      "Requirement already satisfied: mkl_fft in /usr/local/lib/python3.11/dist-packages (from numpy->ipympl->medsam==0.0.1) (1.3.8)\r\n",
      "Requirement already satisfied: mkl_random in /usr/local/lib/python3.11/dist-packages (from numpy->ipympl->medsam==0.0.1) (1.2.4)\r\n",
      "Requirement already satisfied: mkl_umath in /usr/local/lib/python3.11/dist-packages (from numpy->ipympl->medsam==0.0.1) (0.1.1)\r\n",
      "Requirement already satisfied: mkl in /usr/local/lib/python3.11/dist-packages (from numpy->ipympl->medsam==0.0.1) (2025.1.0)\r\n",
      "Requirement already satisfied: tbb4py in /usr/local/lib/python3.11/dist-packages (from numpy->ipympl->medsam==0.0.1) (2022.1.0)\r\n",
      "Requirement already satisfied: mkl-service in /usr/local/lib/python3.11/dist-packages (from numpy->ipympl->medsam==0.0.1) (2.4.1)\r\n",
      "Requirement already satisfied: six>=1.5 in /usr/local/lib/python3.11/dist-packages (from python-dateutil>=2.7->matplotlib->medsam==0.0.1) (1.17.0)\r\n",
      "Requirement already satisfied: filelock in /usr/local/lib/python3.11/dist-packages (from torch>=1.9->monai->medsam==0.0.1) (3.18.0)\r\n",
      "Requirement already satisfied: fsspec in /usr/local/lib/python3.11/dist-packages (from torch>=1.9->monai->medsam==0.0.1) (2025.3.2)\r\n",
      "Requirement already satisfied: nvidia-cuda-nvrtc-cu12==12.4.127 in /usr/local/lib/python3.11/dist-packages (from torch>=1.9->monai->medsam==0.0.1) (12.4.127)\r\n",
      "Requirement already satisfied: nvidia-cuda-runtime-cu12==12.4.127 in /usr/local/lib/python3.11/dist-packages (from torch>=1.9->monai->medsam==0.0.1) (12.4.127)\r\n",
      "Requirement already satisfied: nvidia-cuda-cupti-cu12==12.4.127 in /usr/local/lib/python3.11/dist-packages (from torch>=1.9->monai->medsam==0.0.1) (12.4.127)\r\n",
      "Requirement already satisfied: nvidia-cudnn-cu12==9.1.0.70 in /usr/local/lib/python3.11/dist-packages (from torch>=1.9->monai->medsam==0.0.1) (9.1.0.70)\r\n",
      "Requirement already satisfied: nvidia-cublas-cu12==12.4.5.8 in /usr/local/lib/python3.11/dist-packages (from torch>=1.9->monai->medsam==0.0.1) (12.4.5.8)\r\n",
      "Requirement already satisfied: nvidia-cufft-cu12==11.2.1.3 in /usr/local/lib/python3.11/dist-packages (from torch>=1.9->monai->medsam==0.0.1) (11.2.1.3)\r\n",
      "Requirement already satisfied: nvidia-curand-cu12==10.3.5.147 in /usr/local/lib/python3.11/dist-packages (from torch>=1.9->monai->medsam==0.0.1) (10.3.5.147)\r\n",
      "Requirement already satisfied: nvidia-cusolver-cu12==11.6.1.9 in /usr/local/lib/python3.11/dist-packages (from torch>=1.9->monai->medsam==0.0.1) (11.6.1.9)\r\n",
      "Requirement already satisfied: nvidia-cusparse-cu12==12.3.1.170 in /usr/local/lib/python3.11/dist-packages (from torch>=1.9->monai->medsam==0.0.1) (12.3.1.170)\r\n",
      "Requirement already satisfied: nvidia-nccl-cu12==2.21.5 in /usr/local/lib/python3.11/dist-packages (from torch>=1.9->monai->medsam==0.0.1) (2.21.5)\r\n",
      "Requirement already satisfied: nvidia-nvtx-cu12==12.4.127 in /usr/local/lib/python3.11/dist-packages (from torch>=1.9->monai->medsam==0.0.1) (12.4.127)\r\n",
      "Requirement already satisfied: nvidia-nvjitlink-cu12==12.4.127 in /usr/local/lib/python3.11/dist-packages (from torch>=1.9->monai->medsam==0.0.1) (12.4.127)\r\n",
      "Requirement already satisfied: triton==3.1.0 in /usr/local/lib/python3.11/dist-packages (from torch>=1.9->monai->medsam==0.0.1) (3.1.0)\r\n",
      "Requirement already satisfied: sympy==1.13.1 in /usr/local/lib/python3.11/dist-packages (from torch>=1.9->monai->medsam==0.0.1) (1.13.1)\r\n",
      "Requirement already satisfied: mpmath<1.4,>=1.1.0 in /usr/local/lib/python3.11/dist-packages (from sympy==1.13.1->torch>=1.9->monai->medsam==0.0.1) (1.3.0)\r\n",
      "Requirement already satisfied: idna>=2.8 in /usr/local/lib/python3.11/dist-packages (from anyio>=3.1.0->jupyter-server<3,>=1.16.0->jupyterlab->medsam==0.0.1) (3.10)\r\n",
      "Requirement already satisfied: sniffio>=1.1 in /usr/local/lib/python3.11/dist-packages (from anyio>=3.1.0->jupyter-server<3,>=1.16.0->jupyterlab->medsam==0.0.1) (1.3.1)\r\n",
      "Requirement already satisfied: parso<0.9.0,>=0.8.4 in /usr/local/lib/python3.11/dist-packages (from jedi>=0.16->ipython<10->ipympl->medsam==0.0.1) (0.8.4)\r\n",
      "Requirement already satisfied: attrs>=22.2.0 in /usr/local/lib/python3.11/dist-packages (from jsonschema>=4.18.0->jupyterlab-server~=2.19->jupyterlab->medsam==0.0.1) (25.3.0)\r\n",
      "Requirement already satisfied: jsonschema-specifications>=2023.03.6 in /usr/local/lib/python3.11/dist-packages (from jsonschema>=4.18.0->jupyterlab-server~=2.19->jupyterlab->medsam==0.0.1) (2024.10.1)\r\n",
      "Requirement already satisfied: referencing>=0.28.4 in /usr/local/lib/python3.11/dist-packages (from jsonschema>=4.18.0->jupyterlab-server~=2.19->jupyterlab->medsam==0.0.1) (0.36.2)\r\n",
      "Requirement already satisfied: rpds-py>=0.7.1 in /usr/local/lib/python3.11/dist-packages (from jsonschema>=4.18.0->jupyterlab-server~=2.19->jupyterlab->medsam==0.0.1) (0.22.3)\r\n",
      "Requirement already satisfied: python-json-logger>=2.0.4 in /usr/local/lib/python3.11/dist-packages (from jupyter-events>=0.9.0->jupyter-server<3,>=1.16.0->jupyterlab->medsam==0.0.1) (3.3.0)\r\n",
      "Requirement already satisfied: pyyaml>=5.3 in /usr/local/lib/python3.11/dist-packages (from jupyter-events>=0.9.0->jupyter-server<3,>=1.16.0->jupyterlab->medsam==0.0.1) (6.0.2)\r\n",
      "Requirement already satisfied: rfc3339-validator in /usr/local/lib/python3.11/dist-packages (from jupyter-events>=0.9.0->jupyter-server<3,>=1.16.0->jupyterlab->medsam==0.0.1) (0.1.4)\r\n",
      "Requirement already satisfied: rfc3986-validator>=0.1.1 in /usr/local/lib/python3.11/dist-packages (from jupyter-events>=0.9.0->jupyter-server<3,>=1.16.0->jupyterlab->medsam==0.0.1) (0.1.1)\r\n",
      "Requirement already satisfied: mistune<2,>=0.8.1 in /usr/local/lib/python3.11/dist-packages (from nbconvert>=6.4.4->jupyter-server<3,>=1.16.0->jupyterlab->medsam==0.0.1) (0.8.4)\r\n",
      "Requirement already satisfied: jupyterlab-pygments in /usr/local/lib/python3.11/dist-packages (from nbconvert>=6.4.4->jupyter-server<3,>=1.16.0->jupyterlab->medsam==0.0.1) (0.3.0)\r\n",
      "Requirement already satisfied: entrypoints>=0.2.2 in /usr/local/lib/python3.11/dist-packages (from nbconvert>=6.4.4->jupyter-server<3,>=1.16.0->jupyterlab->medsam==0.0.1) (0.4)\r\n",
      "Requirement already satisfied: bleach in /usr/local/lib/python3.11/dist-packages (from nbconvert>=6.4.4->jupyter-server<3,>=1.16.0->jupyterlab->medsam==0.0.1) (6.2.0)\r\n",
      "Requirement already satisfied: pandocfilters>=1.4.1 in /usr/local/lib/python3.11/dist-packages (from nbconvert>=6.4.4->jupyter-server<3,>=1.16.0->jupyterlab->medsam==0.0.1) (1.5.1)\r\n",
      "Requirement already satisfied: testpath in /usr/local/lib/python3.11/dist-packages (from nbconvert>=6.4.4->jupyter-server<3,>=1.16.0->jupyterlab->medsam==0.0.1) (0.6.0)\r\n",
      "Requirement already satisfied: defusedxml in /usr/local/lib/python3.11/dist-packages (from nbconvert>=6.4.4->jupyter-server<3,>=1.16.0->jupyterlab->medsam==0.0.1) (0.7.1)\r\n",
      "Requirement already satisfied: beautifulsoup4 in /usr/local/lib/python3.11/dist-packages (from nbconvert>=6.4.4->jupyter-server<3,>=1.16.0->jupyterlab->medsam==0.0.1) (4.13.3)\r\n",
      "Requirement already satisfied: nbclient<0.6.0,>=0.5.0 in /usr/local/lib/python3.11/dist-packages (from nbconvert>=6.4.4->jupyter-server<3,>=1.16.0->jupyterlab->medsam==0.0.1) (0.5.13)\r\n",
      "Requirement already satisfied: fastjsonschema>=2.15 in /usr/local/lib/python3.11/dist-packages (from nbformat>=5.3.0->jupyter-server<3,>=1.16.0->jupyterlab->medsam==0.0.1) (2.21.1)\r\n",
      "Requirement already satisfied: ptyprocess>=0.5 in /usr/local/lib/python3.11/dist-packages (from pexpect>4.3->ipython<10->ipympl->medsam==0.0.1) (0.7.0)\r\n",
      "Requirement already satisfied: wcwidth in /usr/local/lib/python3.11/dist-packages (from prompt-toolkit!=3.0.0,!=3.0.1,<3.1.0,>=2.0.0->ipython<10->ipympl->medsam==0.0.1) (0.2.13)\r\n",
      "Requirement already satisfied: charset-normalizer<4,>=2 in /usr/local/lib/python3.11/dist-packages (from requests>=2.31->jupyterlab-server~=2.19->jupyterlab->medsam==0.0.1) (3.4.1)\r\n",
      "Requirement already satisfied: urllib3<3,>=1.21.1 in /usr/local/lib/python3.11/dist-packages (from requests>=2.31->jupyterlab-server~=2.19->jupyterlab->medsam==0.0.1) (2.3.0)\r\n",
      "Requirement already satisfied: certifi>=2017.4.17 in /usr/local/lib/python3.11/dist-packages (from requests>=2.31->jupyterlab-server~=2.19->jupyterlab->medsam==0.0.1) (2025.1.31)\r\n",
      "Requirement already satisfied: aiofiles<23,>=22.1.0 in /usr/local/lib/python3.11/dist-packages (from ypy-websocket<0.9.0,>=0.8.2->jupyter-server-ydoc~=0.8.0->jupyterlab->medsam==0.0.1) (22.1.0)\r\n",
      "Requirement already satisfied: aiosqlite<1,>=0.17.0 in /usr/local/lib/python3.11/dist-packages (from ypy-websocket<0.9.0,>=0.8.2->jupyter-server-ydoc~=0.8.0->jupyterlab->medsam==0.0.1) (0.21.0)\r\n",
      "Requirement already satisfied: argon2-cffi-bindings in /usr/local/lib/python3.11/dist-packages (from argon2-cffi->jupyter-server<3,>=1.16.0->jupyterlab->medsam==0.0.1) (21.2.0)\r\n",
      "Requirement already satisfied: debugpy>=1.0 in /usr/local/lib/python3.11/dist-packages (from ipykernel->notebook<7->jupyterlab->medsam==0.0.1) (1.8.0)\r\n",
      "Requirement already satisfied: psutil in /usr/local/lib/python3.11/dist-packages (from ipykernel->notebook<7->jupyterlab->medsam==0.0.1) (7.0.0)\r\n",
      "Requirement already satisfied: intel-openmp<2026,>=2024 in /usr/local/lib/python3.11/dist-packages (from mkl->numpy->ipympl->medsam==0.0.1) (2024.2.0)\r\n",
      "Requirement already satisfied: tbb==2022.* in /usr/local/lib/python3.11/dist-packages (from mkl->numpy->ipympl->medsam==0.0.1) (2022.1.0)\r\n",
      "Requirement already satisfied: tcmlib==1.* in /usr/local/lib/python3.11/dist-packages (from tbb==2022.*->mkl->numpy->ipympl->medsam==0.0.1) (1.2.0)\r\n",
      "Requirement already satisfied: intel-cmplr-lib-rt in /usr/local/lib/python3.11/dist-packages (from mkl_umath->numpy->ipympl->medsam==0.0.1) (2024.2.0)\r\n",
      "Requirement already satisfied: intel-cmplr-lib-ur==2024.2.0 in /usr/local/lib/python3.11/dist-packages (from intel-openmp<2026,>=2024->mkl->numpy->ipympl->medsam==0.0.1) (2024.2.0)\r\n",
      "Requirement already satisfied: fqdn in /usr/local/lib/python3.11/dist-packages (from jsonschema[format-nongpl]>=4.18.0->jupyter-events>=0.9.0->jupyter-server<3,>=1.16.0->jupyterlab->medsam==0.0.1) (1.5.1)\r\n",
      "Requirement already satisfied: isoduration in /usr/local/lib/python3.11/dist-packages (from jsonschema[format-nongpl]>=4.18.0->jupyter-events>=0.9.0->jupyter-server<3,>=1.16.0->jupyterlab->medsam==0.0.1) (20.11.0)\r\n",
      "Requirement already satisfied: jsonpointer>1.13 in /usr/local/lib/python3.11/dist-packages (from jsonschema[format-nongpl]>=4.18.0->jupyter-events>=0.9.0->jupyter-server<3,>=1.16.0->jupyterlab->medsam==0.0.1) (3.0.0)\r\n",
      "Requirement already satisfied: uri-template in /usr/local/lib/python3.11/dist-packages (from jsonschema[format-nongpl]>=4.18.0->jupyter-events>=0.9.0->jupyter-server<3,>=1.16.0->jupyterlab->medsam==0.0.1) (1.3.0)\r\n",
      "Requirement already satisfied: webcolors>=24.6.0 in /usr/local/lib/python3.11/dist-packages (from jsonschema[format-nongpl]>=4.18.0->jupyter-events>=0.9.0->jupyter-server<3,>=1.16.0->jupyterlab->medsam==0.0.1) (24.11.1)\r\n",
      "Requirement already satisfied: cffi>=1.0.1 in /usr/local/lib/python3.11/dist-packages (from argon2-cffi-bindings->argon2-cffi->jupyter-server<3,>=1.16.0->jupyterlab->medsam==0.0.1) (1.17.1)\r\n",
      "Requirement already satisfied: soupsieve>1.2 in /usr/local/lib/python3.11/dist-packages (from beautifulsoup4->nbconvert>=6.4.4->jupyter-server<3,>=1.16.0->jupyterlab->medsam==0.0.1) (2.6)\r\n",
      "Requirement already satisfied: webencodings in /usr/local/lib/python3.11/dist-packages (from bleach->nbconvert>=6.4.4->jupyter-server<3,>=1.16.0->jupyterlab->medsam==0.0.1) (0.5.1)\r\n",
      "Requirement already satisfied: pycparser in /usr/local/lib/python3.11/dist-packages (from cffi>=1.0.1->argon2-cffi-bindings->argon2-cffi->jupyter-server<3,>=1.16.0->jupyterlab->medsam==0.0.1) (2.22)\r\n",
      "Requirement already satisfied: arrow>=0.15.0 in /usr/local/lib/python3.11/dist-packages (from isoduration->jsonschema[format-nongpl]>=4.18.0->jupyter-events>=0.9.0->jupyter-server<3,>=1.16.0->jupyterlab->medsam==0.0.1) (1.3.0)\r\n",
      "Requirement already satisfied: types-python-dateutil>=2.8.10 in /usr/local/lib/python3.11/dist-packages (from arrow>=0.15.0->isoduration->jsonschema[format-nongpl]>=4.18.0->jupyter-events>=0.9.0->jupyter-server<3,>=1.16.0->jupyterlab->medsam==0.0.1) (2.9.0.20241206)\r\n",
      "Building wheels for collected packages: medsam\r\n",
      "  Building wheel for medsam (setup.py) ... \u001b[?25l\u001b[?25hdone\r\n",
      "  Created wheel for medsam: filename=medsam-0.0.1-py3-none-any.whl size=37342 sha256=075293110e8608e74d26bc2123ececeb96712303a63f5585a74c73e0ac6d1508\r\n",
      "  Stored in directory: /tmp/pip-ephem-wheel-cache-elou8fku/wheels/cf/44/31/b1812e1af7b6e9b2599ca159da58cce033ac8de91d70eb2474\r\n",
      "Successfully built medsam\r\n",
      "Installing collected packages: medsam\r\n",
      "Successfully installed medsam-0.0.1\r\n"
     ]
    }
   ],
   "source": [
    "# Install necessary packages\n",
    "!pip install monai\n",
    "!pip install segment-anything\n",
    "!pip install git+https://github.com/bowang-lab/MedSAM.git"
   ]
  },
  {
   "cell_type": "code",
   "execution_count": 2,
   "id": "45e63a5a",
   "metadata": {
    "execution": {
     "iopub.execute_input": "2025-04-20T10:27:15.335863Z",
     "iopub.status.busy": "2025-04-20T10:27:15.335592Z",
     "iopub.status.idle": "2025-04-20T10:27:17.346607Z",
     "shell.execute_reply": "2025-04-20T10:27:17.345825Z"
    },
    "papermill": {
     "duration": 2.03362,
     "end_time": "2025-04-20T10:27:17.348036",
     "exception": false,
     "start_time": "2025-04-20T10:27:15.314416",
     "status": "completed"
    },
    "tags": []
   },
   "outputs": [],
   "source": [
    "import os\n",
    "import random\n",
    "import shutil\n",
    "import numpy as np\n",
    "import pandas as pd\n",
    "from glob import glob\n",
    "from tqdm import tqdm\n",
    "\n",
    "# Define paths\n",
    "train_img_path = \"/kaggle/input/isicsegmentupdate/merged_train/images\"\n",
    "train_mask_path = \"/kaggle/input/isicsegmentupdate/merged_train/masks\"\n",
    "\n",
    "val_img_path = \"/kaggle/input/isicsegmentupdate/merged_val/images\"\n",
    "val_mask_path = \"/kaggle/input/isicsegmentupdate/merged_val/masks\"\n"
   ]
  },
  {
   "cell_type": "code",
   "execution_count": 3,
   "id": "fb05cbb9",
   "metadata": {
    "execution": {
     "iopub.execute_input": "2025-04-20T10:27:17.390068Z",
     "iopub.status.busy": "2025-04-20T10:27:17.389654Z",
     "iopub.status.idle": "2025-04-20T10:27:29.526531Z",
     "shell.execute_reply": "2025-04-20T10:27:29.525691Z"
    },
    "papermill": {
     "duration": 12.159499,
     "end_time": "2025-04-20T10:27:29.528118",
     "exception": false,
     "start_time": "2025-04-20T10:27:17.368619",
     "status": "completed"
    },
    "tags": []
   },
   "outputs": [],
   "source": [
    "import cv2\n",
    "import torch\n",
    "import numpy as np\n",
    "from PIL import Image\n",
    "from torch.utils.data import Dataset, DataLoader\n",
    "from segment_anything.utils.transforms import ResizeLongestSide\n",
    "\n",
    "\n",
    "class ISICDataset(Dataset):\n",
    "    def __init__(self, img_dir, mask_dir, transform=None):\n",
    "        self.img_dir = img_dir\n",
    "        self.mask_dir = mask_dir\n",
    "        self.transform = transform\n",
    "        \n",
    "        # Tìm tất cả file ảnh\n",
    "        self.images = sorted(glob(os.path.join(img_dir, \"*.jpg\")))\n",
    "        if len(self.images) == 0:\n",
    "            # Thử tìm kiếm với các đuôi khác\n",
    "            self.images = sorted(glob(os.path.join(img_dir, \"*.JPG\")))\n",
    "            if len(self.images) == 0:\n",
    "                self.images = sorted(glob(os.path.join(img_dir, \"*.jpeg\")))\n",
    "        \n",
    "        print(f\"Tìm thấy {len(self.images)} ảnh trong {img_dir}\")\n",
    "        \n",
    "        # Tìm mask tương ứng\n",
    "        self.masks = []\n",
    "        self.valid_indices = []\n",
    "        \n",
    "        for i, img_path in enumerate(self.images):\n",
    "            img_id = os.path.basename(img_path).split('.')[0]\n",
    "            mask_path = os.path.join(mask_dir, f\"{img_id}_segmentation.png\")\n",
    "            \n",
    "            if os.path.exists(mask_path):\n",
    "                self.masks.append(mask_path)\n",
    "                self.valid_indices.append(i)\n",
    "            else:\n",
    "                print(f\"Warning: Không tìm thấy mask cho {img_id}\")\n",
    "        \n",
    "        # Chỉ giữ lại những ảnh có mask\n",
    "        self.images = [self.images[i] for i in self.valid_indices]\n",
    "        \n",
    "        print(f\"Số lượng cặp ảnh-mask hợp lệ: {len(self.images)}\")\n",
    "        \n",
    "        if len(self.images) == 0:\n",
    "            raise ValueError(f\"Không tìm thấy dữ liệu nào trong {img_dir} và {mask_dir}\")\n",
    "        \n",
    "        # Khởi tạo SAM transform\n",
    "        self.sam_transform = ResizeLongestSide(1024)  # Resize theo yêu cầu của SAM ViT-H\n",
    "    \n",
    "    def __len__(self):\n",
    "        return len(self.images)\n",
    "    \n",
    "    def __getitem__(self, idx):\n",
    "        img_path = self.images[idx]\n",
    "        mask_path = self.masks[idx]\n",
    "        \n",
    "        # Đọc ảnh và mask\n",
    "        image = cv2.imread(img_path)\n",
    "        image = cv2.cvtColor(image, cv2.COLOR_BGR2RGB)\n",
    "        \n",
    "        mask = cv2.imread(mask_path, cv2.IMREAD_GRAYSCALE)\n",
    "        mask = (mask > 0).astype(np.float32)  # Chuyển thành binary mask\n",
    "        \n",
    "        # Áp dụng transform thông thường (nếu có)\n",
    "        if self.transform:\n",
    "            transformed = self.transform(image=image, mask=mask)\n",
    "            image = transformed[\"image\"]\n",
    "            mask = transformed[\"mask\"]\n",
    "        \n",
    "        # Tìm bbox từ mask\n",
    "        y_indices, x_indices = np.where(mask > 0)\n",
    "        if len(y_indices) > 0 and len(x_indices) > 0:\n",
    "            x_min, x_max = np.min(x_indices), np.max(x_indices)\n",
    "            y_min, y_max = np.min(y_indices), np.max(y_indices)\n",
    "            bbox = np.array([x_min, y_min, x_max, y_max])\n",
    "        else:\n",
    "            # Nếu mask trống, dùng toàn bộ ảnh\n",
    "            bbox = np.array([0, 0, image.shape[1]-1, image.shape[0]-1])\n",
    "        \n",
    "        # Lấy điểm ngẫu nhiên trong mask để làm prompt\n",
    "        if len(y_indices) > 0:\n",
    "            point_idx = np.random.randint(0, len(y_indices))\n",
    "            point = np.array([x_indices[point_idx], y_indices[point_idx]])\n",
    "        else:\n",
    "            # Nếu mask trống, dùng điểm giữa ảnh\n",
    "            point = np.array([image.shape[1] // 2, image.shape[0] // 2])\n",
    "        \n",
    "        # Áp dụng SAM transform\n",
    "        # Chuyển đổi ảnh thành tensor trước khi áp dụng SAM transform\n",
    "        image_tensor = torch.from_numpy(image).permute(2, 0, 1)\n",
    "        \n",
    "        # Áp dụng SAM transform để resize ảnh theo đúng yêu cầu của SAM\n",
    "        image_1024 = self.sam_transform.apply_image(image)\n",
    "        image_1024_tensor = torch.from_numpy(image_1024).permute(2, 0, 1).float() / 255.0\n",
    "        \n",
    "        # Chuyển đổi điểm và bbox theo tỷ lệ mới\n",
    "        input_size = image.shape[:2]\n",
    "        new_size = image_1024.shape[:2]\n",
    "        \n",
    "        # Scale điểm và bbox theo kích thước mới\n",
    "        point_1024 = self.sam_transform.apply_coords(point.reshape(1, 2), input_size).flatten()\n",
    "        bbox_1024 = self.sam_transform.apply_coords(\n",
    "            np.array([[bbox[0], bbox[1]], [bbox[2], bbox[3]]]), input_size\n",
    "        ).flatten()\n",
    "        \n",
    "        mask_tensor = torch.from_numpy(mask).unsqueeze(0)\n",
    "        point_tensor = torch.from_numpy(point_1024)\n",
    "        bbox_tensor = torch.from_numpy(bbox_1024)\n",
    "        \n",
    "        return {\n",
    "            \"image\": image_1024_tensor,\n",
    "            \"mask\": mask_tensor,\n",
    "            \"bbox\": bbox_tensor,\n",
    "            \"point\": point_tensor,\n",
    "            \"image_path\": img_path\n",
    "        }"
   ]
  },
  {
   "cell_type": "code",
   "execution_count": 4,
   "id": "ae616768",
   "metadata": {
    "execution": {
     "iopub.execute_input": "2025-04-20T10:27:29.570494Z",
     "iopub.status.busy": "2025-04-20T10:27:29.570167Z",
     "iopub.status.idle": "2025-04-20T20:47:15.480793Z",
     "shell.execute_reply": "2025-04-20T20:47:15.478935Z"
    },
    "papermill": {
     "duration": 37185.93346,
     "end_time": "2025-04-20T20:47:15.482053",
     "exception": false,
     "start_time": "2025-04-20T10:27:29.548593",
     "status": "completed"
    },
    "tags": []
   },
   "outputs": [
    {
     "name": "stdout",
     "output_type": "stream",
     "text": [
      "--2025-04-20 10:27:32--  https://dl.fbaipublicfiles.com/segment_anything/sam_vit_b_01ec64.pth\r\n",
      "Resolving dl.fbaipublicfiles.com (dl.fbaipublicfiles.com)... 3.171.22.68, 3.171.22.118, 3.171.22.33, ...\r\n",
      "Connecting to dl.fbaipublicfiles.com (dl.fbaipublicfiles.com)|3.171.22.68|:443... connected.\r\n",
      "HTTP request sent, awaiting response... "
     ]
    },
    {
     "name": "stderr",
     "output_type": "stream",
     "text": [
      "/usr/local/lib/python3.11/dist-packages/albumentations/__init__.py:28: UserWarning: A new version of Albumentations is available: '2.0.5' (you have '2.0.4'). Upgrade using: pip install -U albumentations. To disable automatic update checks, set the environment variable NO_ALBUMENTATIONS_UPDATE to 1.\n",
      "  check_for_updates()\n"
     ]
    },
    {
     "name": "stdout",
     "output_type": "stream",
     "text": [
      "200 OK\r\n",
      "Length: 375042383 (358M) [binary/octet-stream]\r\n",
      "Saving to: ‘sam_vit_b_01ec64.pth’\r\n",
      "\r\n",
      "sam_vit_b_01ec64.pt 100%[===================>] 357.67M   275MB/s    in 1.3s    \r\n",
      "\r\n",
      "2025-04-20 10:27:33 (275 MB/s) - ‘sam_vit_b_01ec64.pth’ saved [375042383/375042383]\r\n",
      "\r\n",
      "Tìm thấy 3444 ảnh trong /kaggle/input/isicsegmentupdate/merged_train/images\n",
      "Số lượng cặp ảnh-mask hợp lệ: 3444\n",
      "Tìm thấy 250 ảnh trong /kaggle/input/isicsegmentupdate/merged_val/images\n",
      "Số lượng cặp ảnh-mask hợp lệ: 250\n"
     ]
    },
    {
     "name": "stderr",
     "output_type": "stream",
     "text": [
      "/usr/local/lib/python3.11/dist-packages/segment_anything/build_sam.py:144: FutureWarning: You are using `torch.load` with `weights_only=False` (the current default value), which uses the default pickle module implicitly. It is possible to construct malicious pickle data which will execute arbitrary code during unpickling (See https://github.com/pytorch/pytorch/blob/main/SECURITY.md#untrusted-models for more details). In a future release, the default value for `weights_only` will be flipped to `True`. This limits the functions that could be executed during unpickling. Arbitrary objects will no longer be allowed to be loaded via this mode unless they are explicitly allowlisted by the user via `torch.serialization.add_safe_globals`. We recommend you start setting `weights_only=True` for any use case where you don't have full control of the loaded file. Please open an issue on GitHub for any issues related to this experimental feature.\n",
      "  state_dict = torch.load(f, map_location=torch.device('cpu'))\n",
      "Epoch 1/40 - Training: 100%|██████████| 1722/1722 [14:16<00:00,  2.01it/s]\n",
      "Epoch 1/40 - Validation: 100%|██████████| 125/125 [01:04<00:00,  1.95it/s]\n"
     ]
    },
    {
     "name": "stdout",
     "output_type": "stream",
     "text": [
      "Epoch 1/40, Train Loss: 0.2357, Val Loss: 0.2220, Mean IoU: 0.7402\n",
      "Saved best model with val loss: 0.2220\n"
     ]
    },
    {
     "name": "stderr",
     "output_type": "stream",
     "text": [
      "Epoch 2/40 - Training: 100%|██████████| 1722/1722 [14:23<00:00,  1.99it/s]\n",
      "Epoch 2/40 - Validation: 100%|██████████| 125/125 [01:02<00:00,  2.01it/s]\n"
     ]
    },
    {
     "name": "stdout",
     "output_type": "stream",
     "text": [
      "Epoch 2/40, Train Loss: 0.1905, Val Loss: 0.2095, Mean IoU: 0.7551\n",
      "Saved best model with val loss: 0.2095\n"
     ]
    },
    {
     "name": "stderr",
     "output_type": "stream",
     "text": [
      "Epoch 3/40 - Training: 100%|██████████| 1722/1722 [14:22<00:00,  2.00it/s]\n",
      "Epoch 3/40 - Validation: 100%|██████████| 125/125 [01:02<00:00,  1.98it/s]\n"
     ]
    },
    {
     "name": "stdout",
     "output_type": "stream",
     "text": [
      "Epoch 3/40, Train Loss: 0.1755, Val Loss: 0.2088, Mean IoU: 0.7559\n",
      "Saved best model with val loss: 0.2088\n"
     ]
    },
    {
     "name": "stderr",
     "output_type": "stream",
     "text": [
      "Epoch 4/40 - Training: 100%|██████████| 1722/1722 [14:23<00:00,  2.00it/s]\n",
      "Epoch 4/40 - Validation: 100%|██████████| 125/125 [01:03<00:00,  1.97it/s]\n"
     ]
    },
    {
     "name": "stdout",
     "output_type": "stream",
     "text": [
      "Epoch 4/40, Train Loss: 0.1737, Val Loss: 0.1928, Mean IoU: 0.7579\n",
      "Saved best model with val loss: 0.1928\n"
     ]
    },
    {
     "name": "stderr",
     "output_type": "stream",
     "text": [
      "Epoch 5/40 - Training: 100%|██████████| 1722/1722 [14:23<00:00,  2.00it/s]\n",
      "Epoch 5/40 - Validation: 100%|██████████| 125/125 [01:03<00:00,  1.97it/s]\n"
     ]
    },
    {
     "name": "stdout",
     "output_type": "stream",
     "text": [
      "Epoch 5/40, Train Loss: 0.1720, Val Loss: 0.2004, Mean IoU: 0.7714\n"
     ]
    },
    {
     "name": "stderr",
     "output_type": "stream",
     "text": [
      "Epoch 6/40 - Training: 100%|██████████| 1722/1722 [14:23<00:00,  1.99it/s]\n",
      "Epoch 6/40 - Validation: 100%|██████████| 125/125 [01:03<00:00,  1.97it/s]\n"
     ]
    },
    {
     "name": "stdout",
     "output_type": "stream",
     "text": [
      "Epoch 6/40, Train Loss: 0.1670, Val Loss: 0.1900, Mean IoU: 0.7697\n",
      "Saved best model with val loss: 0.1900\n"
     ]
    },
    {
     "name": "stderr",
     "output_type": "stream",
     "text": [
      "Epoch 7/40 - Training: 100%|██████████| 1722/1722 [14:23<00:00,  2.00it/s]\n",
      "Epoch 7/40 - Validation: 100%|██████████| 125/125 [01:03<00:00,  1.98it/s]\n"
     ]
    },
    {
     "name": "stdout",
     "output_type": "stream",
     "text": [
      "Epoch 7/40, Train Loss: 0.1619, Val Loss: 0.1914, Mean IoU: 0.7707\n"
     ]
    },
    {
     "name": "stderr",
     "output_type": "stream",
     "text": [
      "Epoch 8/40 - Training: 100%|██████████| 1722/1722 [14:22<00:00,  2.00it/s]\n",
      "Epoch 8/40 - Validation: 100%|██████████| 125/125 [01:03<00:00,  1.98it/s]\n"
     ]
    },
    {
     "name": "stdout",
     "output_type": "stream",
     "text": [
      "Epoch 8/40, Train Loss: 0.1563, Val Loss: 0.1937, Mean IoU: 0.7626\n"
     ]
    },
    {
     "name": "stderr",
     "output_type": "stream",
     "text": [
      "Epoch 9/40 - Training: 100%|██████████| 1722/1722 [14:22<00:00,  2.00it/s]\n",
      "Epoch 9/40 - Validation: 100%|██████████| 125/125 [01:02<00:00,  1.99it/s]\n"
     ]
    },
    {
     "name": "stdout",
     "output_type": "stream",
     "text": [
      "Epoch 9/40, Train Loss: 0.1578, Val Loss: 0.1810, Mean IoU: 0.7783\n",
      "Saved best model with val loss: 0.1810\n"
     ]
    },
    {
     "name": "stderr",
     "output_type": "stream",
     "text": [
      "Epoch 10/40 - Training: 100%|██████████| 1722/1722 [14:23<00:00,  1.99it/s]\n",
      "Epoch 10/40 - Validation: 100%|██████████| 125/125 [01:03<00:00,  1.96it/s]\n"
     ]
    },
    {
     "name": "stdout",
     "output_type": "stream",
     "text": [
      "Epoch 10/40, Train Loss: 0.1561, Val Loss: 0.1766, Mean IoU: 0.7789\n",
      "Saved best model with val loss: 0.1766\n"
     ]
    },
    {
     "name": "stderr",
     "output_type": "stream",
     "text": [
      "Epoch 11/40 - Training: 100%|██████████| 1722/1722 [14:24<00:00,  1.99it/s]\n",
      "Epoch 11/40 - Validation: 100%|██████████| 125/125 [01:02<00:00,  2.00it/s]\n"
     ]
    },
    {
     "name": "stdout",
     "output_type": "stream",
     "text": [
      "Epoch 11/40, Train Loss: 0.1532, Val Loss: 0.1817, Mean IoU: 0.7828\n"
     ]
    },
    {
     "name": "stderr",
     "output_type": "stream",
     "text": [
      "Epoch 12/40 - Training: 100%|██████████| 1722/1722 [14:24<00:00,  1.99it/s]\n",
      "Epoch 12/40 - Validation: 100%|██████████| 125/125 [01:03<00:00,  1.96it/s]\n"
     ]
    },
    {
     "name": "stdout",
     "output_type": "stream",
     "text": [
      "Epoch 12/40, Train Loss: 0.1538, Val Loss: 0.1731, Mean IoU: 0.7855\n",
      "Saved best model with val loss: 0.1731\n"
     ]
    },
    {
     "name": "stderr",
     "output_type": "stream",
     "text": [
      "Epoch 13/40 - Training: 100%|██████████| 1722/1722 [14:24<00:00,  1.99it/s]\n",
      "Epoch 13/40 - Validation: 100%|██████████| 125/125 [01:03<00:00,  1.97it/s]\n"
     ]
    },
    {
     "name": "stdout",
     "output_type": "stream",
     "text": [
      "Epoch 13/40, Train Loss: 0.1495, Val Loss: 0.1785, Mean IoU: 0.7747\n"
     ]
    },
    {
     "name": "stderr",
     "output_type": "stream",
     "text": [
      "Epoch 14/40 - Training: 100%|██████████| 1722/1722 [14:25<00:00,  1.99it/s]\n",
      "Epoch 14/40 - Validation: 100%|██████████| 125/125 [01:03<00:00,  1.98it/s]\n"
     ]
    },
    {
     "name": "stdout",
     "output_type": "stream",
     "text": [
      "Epoch 14/40, Train Loss: 0.1506, Val Loss: 0.1657, Mean IoU: 0.7984\n",
      "Saved best model with val loss: 0.1657\n"
     ]
    },
    {
     "name": "stderr",
     "output_type": "stream",
     "text": [
      "Epoch 15/40 - Training: 100%|██████████| 1722/1722 [14:23<00:00,  1.99it/s]\n",
      "Epoch 15/40 - Validation: 100%|██████████| 125/125 [01:03<00:00,  1.98it/s]\n"
     ]
    },
    {
     "name": "stdout",
     "output_type": "stream",
     "text": [
      "Epoch 15/40, Train Loss: 0.1476, Val Loss: 0.1832, Mean IoU: 0.7668\n"
     ]
    },
    {
     "name": "stderr",
     "output_type": "stream",
     "text": [
      "Epoch 16/40 - Training: 100%|██████████| 1722/1722 [14:24<00:00,  1.99it/s]\n",
      "Epoch 16/40 - Validation: 100%|██████████| 125/125 [01:03<00:00,  1.96it/s]\n"
     ]
    },
    {
     "name": "stdout",
     "output_type": "stream",
     "text": [
      "Epoch 16/40, Train Loss: 0.1466, Val Loss: 0.1738, Mean IoU: 0.7900\n"
     ]
    },
    {
     "name": "stderr",
     "output_type": "stream",
     "text": [
      "Epoch 17/40 - Training: 100%|██████████| 1722/1722 [14:24<00:00,  1.99it/s]\n",
      "Epoch 17/40 - Validation: 100%|██████████| 125/125 [01:02<00:00,  1.99it/s]\n"
     ]
    },
    {
     "name": "stdout",
     "output_type": "stream",
     "text": [
      "Epoch 17/40, Train Loss: 0.1431, Val Loss: 0.1816, Mean IoU: 0.7866\n"
     ]
    },
    {
     "name": "stderr",
     "output_type": "stream",
     "text": [
      "Epoch 18/40 - Training: 100%|██████████| 1722/1722 [14:23<00:00,  1.99it/s]\n",
      "Epoch 18/40 - Validation: 100%|██████████| 125/125 [01:02<00:00,  1.99it/s]\n"
     ]
    },
    {
     "name": "stdout",
     "output_type": "stream",
     "text": [
      "Epoch 18/40, Train Loss: 0.1450, Val Loss: 0.1890, Mean IoU: 0.7834\n"
     ]
    },
    {
     "name": "stderr",
     "output_type": "stream",
     "text": [
      "Epoch 19/40 - Training: 100%|██████████| 1722/1722 [14:24<00:00,  1.99it/s]\n",
      "Epoch 19/40 - Validation: 100%|██████████| 125/125 [01:03<00:00,  1.95it/s]\n"
     ]
    },
    {
     "name": "stdout",
     "output_type": "stream",
     "text": [
      "Epoch 19/40, Train Loss: 0.1430, Val Loss: 0.1783, Mean IoU: 0.7866\n"
     ]
    },
    {
     "name": "stderr",
     "output_type": "stream",
     "text": [
      "Epoch 20/40 - Training: 100%|██████████| 1722/1722 [14:24<00:00,  1.99it/s]\n",
      "Epoch 20/40 - Validation: 100%|██████████| 125/125 [01:03<00:00,  1.98it/s]\n"
     ]
    },
    {
     "name": "stdout",
     "output_type": "stream",
     "text": [
      "Epoch 20/40, Train Loss: 0.1441, Val Loss: 0.1667, Mean IoU: 0.8006\n"
     ]
    },
    {
     "name": "stderr",
     "output_type": "stream",
     "text": [
      "Epoch 21/40 - Training: 100%|██████████| 1722/1722 [14:24<00:00,  1.99it/s]\n",
      "Epoch 21/40 - Validation: 100%|██████████| 125/125 [01:04<00:00,  1.95it/s]\n"
     ]
    },
    {
     "name": "stdout",
     "output_type": "stream",
     "text": [
      "Epoch 21/40, Train Loss: 0.1425, Val Loss: 0.1693, Mean IoU: 0.8015\n"
     ]
    },
    {
     "name": "stderr",
     "output_type": "stream",
     "text": [
      "Epoch 22/40 - Training: 100%|██████████| 1722/1722 [14:26<00:00,  1.99it/s]\n",
      "Epoch 22/40 - Validation: 100%|██████████| 125/125 [01:03<00:00,  1.98it/s]\n"
     ]
    },
    {
     "name": "stdout",
     "output_type": "stream",
     "text": [
      "Epoch 22/40, Train Loss: 0.1398, Val Loss: 0.1664, Mean IoU: 0.8015\n"
     ]
    },
    {
     "name": "stderr",
     "output_type": "stream",
     "text": [
      "Epoch 23/40 - Training: 100%|██████████| 1722/1722 [14:27<00:00,  1.99it/s]\n",
      "Epoch 23/40 - Validation: 100%|██████████| 125/125 [01:03<00:00,  1.96it/s]\n"
     ]
    },
    {
     "name": "stdout",
     "output_type": "stream",
     "text": [
      "Epoch 23/40, Train Loss: 0.1430, Val Loss: 0.1843, Mean IoU: 0.7813\n"
     ]
    },
    {
     "name": "stderr",
     "output_type": "stream",
     "text": [
      "Epoch 24/40 - Training: 100%|██████████| 1722/1722 [14:29<00:00,  1.98it/s]\n",
      "Epoch 24/40 - Validation: 100%|██████████| 125/125 [01:03<00:00,  1.98it/s]\n"
     ]
    },
    {
     "name": "stdout",
     "output_type": "stream",
     "text": [
      "Epoch 24/40, Train Loss: 0.1400, Val Loss: 0.1748, Mean IoU: 0.7923\n"
     ]
    },
    {
     "name": "stderr",
     "output_type": "stream",
     "text": [
      "Epoch 25/40 - Training: 100%|██████████| 1722/1722 [14:29<00:00,  1.98it/s]\n",
      "Epoch 25/40 - Validation: 100%|██████████| 125/125 [01:03<00:00,  1.96it/s]\n"
     ]
    },
    {
     "name": "stdout",
     "output_type": "stream",
     "text": [
      "Epoch 25/40, Train Loss: 0.1392, Val Loss: 0.1614, Mean IoU: 0.7975\n",
      "Saved best model with val loss: 0.1614\n"
     ]
    },
    {
     "name": "stderr",
     "output_type": "stream",
     "text": [
      "Epoch 26/40 - Training: 100%|██████████| 1722/1722 [14:27<00:00,  1.99it/s]\n",
      "Epoch 26/40 - Validation: 100%|██████████| 125/125 [01:04<00:00,  1.94it/s]\n"
     ]
    },
    {
     "name": "stdout",
     "output_type": "stream",
     "text": [
      "Epoch 26/40, Train Loss: 0.1347, Val Loss: 0.1780, Mean IoU: 0.7879\n"
     ]
    },
    {
     "name": "stderr",
     "output_type": "stream",
     "text": [
      "Epoch 27/40 - Training: 100%|██████████| 1722/1722 [14:28<00:00,  1.98it/s]\n",
      "Epoch 27/40 - Validation: 100%|██████████| 125/125 [01:03<00:00,  1.95it/s]\n"
     ]
    },
    {
     "name": "stdout",
     "output_type": "stream",
     "text": [
      "Epoch 27/40, Train Loss: 0.1376, Val Loss: 0.1670, Mean IoU: 0.8025\n"
     ]
    },
    {
     "name": "stderr",
     "output_type": "stream",
     "text": [
      "Epoch 28/40 - Training: 100%|██████████| 1722/1722 [14:25<00:00,  1.99it/s]\n",
      "Epoch 28/40 - Validation: 100%|██████████| 125/125 [01:03<00:00,  1.97it/s]\n"
     ]
    },
    {
     "name": "stdout",
     "output_type": "stream",
     "text": [
      "Epoch 28/40, Train Loss: 0.1375, Val Loss: 0.1692, Mean IoU: 0.7960\n"
     ]
    },
    {
     "name": "stderr",
     "output_type": "stream",
     "text": [
      "Epoch 29/40 - Training: 100%|██████████| 1722/1722 [14:27<00:00,  1.99it/s]\n",
      "Epoch 29/40 - Validation: 100%|██████████| 125/125 [01:03<00:00,  1.97it/s]\n"
     ]
    },
    {
     "name": "stdout",
     "output_type": "stream",
     "text": [
      "Epoch 29/40, Train Loss: 0.1368, Val Loss: 0.1686, Mean IoU: 0.7928\n"
     ]
    },
    {
     "name": "stderr",
     "output_type": "stream",
     "text": [
      "Epoch 30/40 - Training: 100%|██████████| 1722/1722 [14:25<00:00,  1.99it/s]\n",
      "Epoch 30/40 - Validation: 100%|██████████| 125/125 [01:03<00:00,  1.96it/s]\n"
     ]
    },
    {
     "name": "stdout",
     "output_type": "stream",
     "text": [
      "Epoch 30/40, Train Loss: 0.1354, Val Loss: 0.1628, Mean IoU: 0.8004\n"
     ]
    },
    {
     "name": "stderr",
     "output_type": "stream",
     "text": [
      "Epoch 31/40 - Training: 100%|██████████| 1722/1722 [14:27<00:00,  1.99it/s]\n",
      "Epoch 31/40 - Validation: 100%|██████████| 125/125 [01:04<00:00,  1.94it/s]\n"
     ]
    },
    {
     "name": "stdout",
     "output_type": "stream",
     "text": [
      "Epoch 31/40, Train Loss: 0.1337, Val Loss: 0.1663, Mean IoU: 0.7816\n"
     ]
    },
    {
     "name": "stderr",
     "output_type": "stream",
     "text": [
      "Epoch 32/40 - Training: 100%|██████████| 1722/1722 [14:28<00:00,  1.98it/s]\n",
      "Epoch 32/40 - Validation: 100%|██████████| 125/125 [01:03<00:00,  1.97it/s]\n"
     ]
    },
    {
     "name": "stdout",
     "output_type": "stream",
     "text": [
      "Epoch 32/40, Train Loss: 0.1322, Val Loss: 0.1649, Mean IoU: 0.7975\n"
     ]
    },
    {
     "name": "stderr",
     "output_type": "stream",
     "text": [
      "Epoch 33/40 - Training: 100%|██████████| 1722/1722 [14:27<00:00,  1.98it/s]\n",
      "Epoch 33/40 - Validation: 100%|██████████| 125/125 [01:03<00:00,  1.96it/s]\n"
     ]
    },
    {
     "name": "stdout",
     "output_type": "stream",
     "text": [
      "Epoch 33/40, Train Loss: 0.1321, Val Loss: 0.1572, Mean IoU: 0.8077\n",
      "Saved best model with val loss: 0.1572\n"
     ]
    },
    {
     "name": "stderr",
     "output_type": "stream",
     "text": [
      "Epoch 34/40 - Training: 100%|██████████| 1722/1722 [14:28<00:00,  1.98it/s]\n",
      "Epoch 34/40 - Validation: 100%|██████████| 125/125 [01:03<00:00,  1.97it/s]\n"
     ]
    },
    {
     "name": "stdout",
     "output_type": "stream",
     "text": [
      "Epoch 34/40, Train Loss: 0.1341, Val Loss: 0.1504, Mean IoU: 0.8053\n",
      "Saved best model with val loss: 0.1504\n"
     ]
    },
    {
     "name": "stderr",
     "output_type": "stream",
     "text": [
      "Epoch 35/40 - Training: 100%|██████████| 1722/1722 [14:28<00:00,  1.98it/s]\n",
      "Epoch 35/40 - Validation: 100%|██████████| 125/125 [01:04<00:00,  1.95it/s]\n"
     ]
    },
    {
     "name": "stdout",
     "output_type": "stream",
     "text": [
      "Epoch 35/40, Train Loss: 0.1320, Val Loss: 0.1657, Mean IoU: 0.8006\n"
     ]
    },
    {
     "name": "stderr",
     "output_type": "stream",
     "text": [
      "Epoch 36/40 - Training: 100%|██████████| 1722/1722 [14:26<00:00,  1.99it/s]\n",
      "Epoch 36/40 - Validation: 100%|██████████| 125/125 [01:04<00:00,  1.94it/s]\n"
     ]
    },
    {
     "name": "stdout",
     "output_type": "stream",
     "text": [
      "Epoch 36/40, Train Loss: 0.1322, Val Loss: 0.1443, Mean IoU: 0.8126\n",
      "Saved best model with val loss: 0.1443\n"
     ]
    },
    {
     "name": "stderr",
     "output_type": "stream",
     "text": [
      "Epoch 37/40 - Training: 100%|██████████| 1722/1722 [14:25<00:00,  1.99it/s]\n",
      "Epoch 37/40 - Validation: 100%|██████████| 125/125 [01:04<00:00,  1.95it/s]\n"
     ]
    },
    {
     "name": "stdout",
     "output_type": "stream",
     "text": [
      "Epoch 37/40, Train Loss: 0.1307, Val Loss: 0.1655, Mean IoU: 0.8023\n"
     ]
    },
    {
     "name": "stderr",
     "output_type": "stream",
     "text": [
      "Epoch 38/40 - Training: 100%|██████████| 1722/1722 [14:27<00:00,  1.99it/s]\n",
      "Epoch 38/40 - Validation: 100%|██████████| 125/125 [01:04<00:00,  1.95it/s]\n"
     ]
    },
    {
     "name": "stdout",
     "output_type": "stream",
     "text": [
      "Epoch 38/40, Train Loss: 0.1317, Val Loss: 0.1555, Mean IoU: 0.8033\n"
     ]
    },
    {
     "name": "stderr",
     "output_type": "stream",
     "text": [
      "Epoch 39/40 - Training: 100%|██████████| 1722/1722 [14:25<00:00,  1.99it/s]\n",
      "Epoch 39/40 - Validation: 100%|██████████| 125/125 [01:04<00:00,  1.95it/s]\n"
     ]
    },
    {
     "name": "stdout",
     "output_type": "stream",
     "text": [
      "Epoch 39/40, Train Loss: 0.1297, Val Loss: 0.1571, Mean IoU: 0.8000\n"
     ]
    },
    {
     "name": "stderr",
     "output_type": "stream",
     "text": [
      "Epoch 40/40 - Training: 100%|██████████| 1722/1722 [14:31<00:00,  1.98it/s]\n",
      "Epoch 40/40 - Validation: 100%|██████████| 125/125 [01:04<00:00,  1.93it/s]"
     ]
    },
    {
     "name": "stdout",
     "output_type": "stream",
     "text": [
      "Epoch 40/40, Train Loss: 0.1302, Val Loss: 0.1503, Mean IoU: 0.8107\n"
     ]
    },
    {
     "name": "stderr",
     "output_type": "stream",
     "text": [
      "\n"
     ]
    }
   ],
   "source": [
    "import torch\n",
    "import torch.nn as nn\n",
    "import torch.optim as optim\n",
    "from torch.utils.data import DataLoader\n",
    "from torch.amp import autocast\n",
    "from torch.amp import GradScaler\n",
    "import albumentations as A\n",
    "from albumentations.pytorch import ToTensorV2\n",
    "from segment_anything import sam_model_registry\n",
    "from segment_anything.utils.transforms import ResizeLongestSide\n",
    "import matplotlib.pyplot as plt\n",
    "from tqdm import tqdm\n",
    "import numpy as np\n",
    "import os\n",
    "\n",
    "# Download the pre-trained SAM model (ViT-H is the most powerful)\n",
    "!wget https://dl.fbaipublicfiles.com/segment_anything/sam_vit_b_01ec64.pth\n",
    "\n",
    "# Set up transforms\n",
    "train_transform = A.Compose([\n",
    "    A.Resize(256, 256),  # Giữ nguyên hoặc giảm xuống nếu cần\n",
    "    A.HorizontalFlip(p=0.5),\n",
    "    A.VerticalFlip(p=0.5),\n",
    "    A.RandomRotate90(p=0.5),\n",
    "    A.RandomBrightnessContrast(p=0.2),\n",
    "])\n",
    "\n",
    "val_transform = A.Compose([\n",
    "    A.Resize(256, 256),\n",
    "])\n",
    "\n",
    "# Create datasets\n",
    "train_dataset = ISICDataset(\n",
    "    img_dir=train_img_path,  # Sử dụng đường dẫn gốc, không xử lý lại\n",
    "    mask_dir=train_mask_path,  # Sử dụng đường dẫn gốc, không xử lý lại\n",
    "    transform=train_transform\n",
    ")\n",
    "\n",
    "val_dataset = ISICDataset(\n",
    "    img_dir=val_img_path,\n",
    "    mask_dir=val_mask_path,\n",
    "    transform=val_transform\n",
    ")\n",
    "\n",
    "# Create data loaders\n",
    "train_loader = DataLoader(train_dataset, batch_size=2, shuffle=True, num_workers=2)\n",
    "val_loader = DataLoader(val_dataset, batch_size=2, shuffle=False, num_workers=2)\n",
    "\n",
    "# Initialize the SAM model\n",
    "device = torch.device(\"cuda\" if torch.cuda.is_available() else \"cpu\")\n",
    "model_type = \"vit_b\"  # Sử dụng vit_b thay vì vit_h\n",
    "sam_checkpoint = \"sam_vit_b_01ec64.pth\"  # Checkpoint tương ứng\n",
    "\n",
    "sam = sam_model_registry[model_type](checkpoint=sam_checkpoint)\n",
    "sam.to(device)\n",
    "\n",
    "# Fine-tune only the image encoder part of SAM\n",
    "for name, param in sam.named_parameters():\n",
    "    param.requires_grad = False  # Freeze tất cả trước\n",
    "    \n",
    "# Chỉ unfreeze mask decoder để finetune\n",
    "for name, param in sam.mask_decoder.named_parameters():\n",
    "    param.requires_grad = True\n",
    "\n",
    "# Optimizer\n",
    "optimizer = optim.Adam([p for p in sam.parameters() if p.requires_grad], lr=1e-5)\n",
    "loss_fn = nn.BCEWithLogitsLoss()\n",
    "\n",
    "# MedSAM training loop\n",
    "def train_medsam(model, train_loader, val_loader, optimizer, loss_fn, num_epochs=10):\n",
    "    sam_transform = ResizeLongestSide(model.image_encoder.img_size)\n",
    "    best_val_loss = float('inf')\n",
    "    scaler = GradScaler()  # Thêm gradient scaler cho mixed precision\n",
    "    \n",
    "    for epoch in range(num_epochs):\n",
    "        model.train()\n",
    "        train_loss = 0\n",
    "        \n",
    "        for batch in tqdm(train_loader, desc=f\"Epoch {epoch+1}/{num_epochs} - Training\"):\n",
    "            images = batch[\"image\"].to(device)\n",
    "            masks = batch[\"mask\"].to(device)\n",
    "            points = batch[\"point\"].to(device).unsqueeze(1)\n",
    "            point_labels = torch.ones(points.shape[0], points.shape[1], dtype=torch.int, device=device)\n",
    "            \n",
    "            # Sử dụng autocast cho mixed precision\n",
    "            with autocast(device_type='cuda' if torch.cuda.is_available() else 'cpu'):\n",
    "                # Get image embeddings\n",
    "                with torch.no_grad():  # Đảm bảo không tính gradient cho encoder\n",
    "                    image_embeddings = model.image_encoder(images)\n",
    "                \n",
    "                # Get sparse embeddings with point prompts\n",
    "                sparse_embeddings, dense_embeddings = model.prompt_encoder(\n",
    "                    points=(points, point_labels),\n",
    "                    boxes=None,\n",
    "                    masks=None,\n",
    "                )\n",
    "                                            \n",
    "                # Predict masks\n",
    "                mask_predictions, _ = model.mask_decoder(\n",
    "                    image_embeddings=image_embeddings,\n",
    "                    image_pe=model.prompt_encoder.get_dense_pe(),\n",
    "                    sparse_prompt_embeddings=sparse_embeddings,\n",
    "                    dense_prompt_embeddings=dense_embeddings,\n",
    "                    multimask_output=False,\n",
    "                )\n",
    "                \n",
    "                # Calculate loss\n",
    "                loss = loss_fn(mask_predictions[:, 0], masks.squeeze(1))\n",
    "            \n",
    "            # Sử dụng gradient scaler cho mixed precision\n",
    "            optimizer.zero_grad()\n",
    "            scaler.scale(loss).backward()\n",
    "            scaler.step(optimizer)\n",
    "            scaler.update()\n",
    "            \n",
    "            train_loss += loss.item()\n",
    "        \n",
    "        train_loss /= len(train_loader)\n",
    "        \n",
    "        # Validation\n",
    "        model.eval()\n",
    "        val_loss = 0\n",
    "        iou_scores = []\n",
    "        \n",
    "        with torch.no_grad():\n",
    "            for batch in tqdm(val_loader, desc=f\"Epoch {epoch+1}/{num_epochs} - Validation\"):\n",
    "                images = batch[\"image\"].to(device)\n",
    "                masks = batch[\"mask\"].to(device)\n",
    "                points = batch[\"point\"].to(device).unsqueeze(1)\n",
    "                point_labels = torch.ones(points.shape[0], points.shape[1], dtype=torch.int, device=device)\n",
    "                \n",
    "                # Sử dụng autocast cho mixed precision\n",
    "                with autocast(device_type='cuda' if torch.cuda.is_available() else 'cpu'):\n",
    "                    # Get image embeddings\n",
    "                    with torch.no_grad():  # Đảm bảo không tính gradient cho encoder\n",
    "                        image_embeddings = model.image_encoder(images)\n",
    "                    \n",
    "                    # Get sparse embeddings with point prompts\n",
    "                    sparse_embeddings, dense_embeddings = model.prompt_encoder(\n",
    "                        points=(points, point_labels),\n",
    "                        boxes=None,\n",
    "                        masks=None,\n",
    "                    )                                        \n",
    "                    mask_predictions, _ = model.mask_decoder(\n",
    "                        image_embeddings=image_embeddings,\n",
    "                        image_pe=model.prompt_encoder.get_dense_pe(),\n",
    "                        sparse_prompt_embeddings=sparse_embeddings,\n",
    "                        dense_prompt_embeddings=dense_embeddings,\n",
    "                        multimask_output=False,\n",
    "                    )\n",
    "                    \n",
    "                    # Calculate loss and IoU\n",
    "                    loss = loss_fn(mask_predictions[:, 0], masks.squeeze(1))\n",
    "                \n",
    "                val_loss += loss.item()\n",
    "                \n",
    "                # Calculate IoU\n",
    "                pred_masks = (mask_predictions[:, 0] > 0).float()\n",
    "                intersection = (pred_masks * masks.squeeze(1)).sum((1, 2))\n",
    "                union = pred_masks.sum((1, 2)) + masks.squeeze(1).sum((1, 2)) - intersection\n",
    "                batch_iou = (intersection / (union + 1e-6)).mean().item()\n",
    "                iou_scores.append(batch_iou)\n",
    "        \n",
    "        val_loss /= len(val_loader)\n",
    "        mean_iou = np.mean(iou_scores)\n",
    "        \n",
    "        print(f\"Epoch {epoch+1}/{num_epochs}, Train Loss: {train_loss:.4f}, Val Loss: {val_loss:.4f}, Mean IoU: {mean_iou:.4f}\")\n",
    "        \n",
    "        # Save best model\n",
    "        if val_loss < best_val_loss:\n",
    "            best_val_loss = val_loss\n",
    "            torch.save(model.state_dict(), \"best_medsam_model.pth\")\n",
    "            print(f\"Saved best model with val loss: {best_val_loss:.4f}\")\n",
    "    \n",
    "    return model\n",
    "\n",
    "#Train MedSAM\n",
    "trained_model = train_medsam(sam, train_loader, val_loader, optimizer, loss_fn, num_epochs=40)"
   ]
  }
 ],
 "metadata": {
  "kaggle": {
   "accelerator": "nvidiaTeslaT4",
   "dataSources": [
    {
     "datasetId": 7198354,
     "sourceId": 11484905,
     "sourceType": "datasetVersion"
    }
   ],
   "dockerImageVersionId": 31011,
   "isGpuEnabled": true,
   "isInternetEnabled": true,
   "language": "python",
   "sourceType": "notebook"
  },
  "kernelspec": {
   "display_name": "skin-diagnosis",
   "language": "python",
   "name": "python3"
  },
  "language_info": {
   "codemirror_mode": {
    "name": "ipython",
    "version": 3
   },
   "file_extension": ".py",
   "mimetype": "text/x-python",
   "name": "python",
   "nbconvert_exporter": "python",
   "pygments_lexer": "ipython3",
   "version": "3.11.11"
  },
  "papermill": {
   "default_parameters": {},
   "duration": 37316.980418,
   "end_time": "2025-04-20T20:47:21.723064",
   "environment_variables": {},
   "exception": null,
   "input_path": "__notebook__.ipynb",
   "output_path": "__notebook__.ipynb",
   "parameters": {},
   "start_time": "2025-04-20T10:25:24.742646",
   "version": "2.6.0"
  }
 },
 "nbformat": 4,
 "nbformat_minor": 5
}
